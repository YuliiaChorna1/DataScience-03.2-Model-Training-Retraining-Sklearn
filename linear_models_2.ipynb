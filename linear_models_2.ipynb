{
  "cells": [
    {
      "cell_type": "markdown",
      "metadata": {
        "colab_type": "text",
        "id": "view-in-github"
      },
      "source": [
        "<a href=\"https://colab.research.google.com/github/YuliiaChorna1/DataScience-03.2-Model-Training-Retraining-Sklearn/blob/main/linear_models_2.ipynb\" target=\"_parent\"><img src=\"https://colab.research.google.com/assets/colab-badge.svg\" alt=\"Open In Colab\"/></a>"
      ]
    },
    {
      "cell_type": "markdown",
      "metadata": {
        "id": "o7bZDEU-hWhL"
      },
      "source": [
        "# Sklearn"
      ]
    },
    {
      "cell_type": "markdown",
      "metadata": {
        "id": "jZnh0ZI2hWhN"
      },
      "source": [
        "## sklearn.linear_model"
      ]
    },
    {
      "cell_type": "code",
      "execution_count": 1,
      "metadata": {
        "id": "S5dVpxTVhWhO"
      },
      "outputs": [],
      "source": [
        "from matplotlib.colors import ListedColormap\n",
        "from sklearn import model_selection, datasets, linear_model, metrics\n",
        "\n",
        "import numpy as np"
      ]
    },
    {
      "cell_type": "code",
      "execution_count": 2,
      "metadata": {
        "id": "isQxCY3ihWhP",
        "outputId": "1da92454-1bc1-4031-bb6a-06910c99e438"
      },
      "outputs": [
        {
          "name": "stdout",
          "output_type": "stream",
          "text": [
            "%pylab is deprecated, use %matplotlib inline and import the required libraries.\n",
            "Populating the interactive namespace from numpy and matplotlib\n"
          ]
        }
      ],
      "source": [
        "%pylab inline"
      ]
    },
    {
      "cell_type": "markdown",
      "metadata": {
        "id": "35tWQPCChWhP"
      },
      "source": [
        "### Лінійна регресія"
      ]
    },
    {
      "cell_type": "markdown",
      "metadata": {
        "id": "hO3trD3DhWhQ"
      },
      "source": [
        "#### Генерування даних"
      ]
    },
    {
      "cell_type": "code",
      "execution_count": 3,
      "metadata": {
        "id": "KZleE8vvhWhQ"
      },
      "outputs": [],
      "source": [
        "data, target, coef = datasets.make_regression(n_features=2, n_informative=1, n_targets=1,\n",
        "                                              noise=5., coef=True, random_state=2)"
      ]
    },
    {
      "cell_type": "code",
      "execution_count": 4,
      "metadata": {
        "id": "NybzOfC0hWhQ",
        "outputId": "39288897-fb3a-412c-b57a-7cf88dfb9b8a"
      },
      "outputs": [
        {
          "data": {
            "text/plain": [
              "<matplotlib.collections.PathCollection at 0x2297c19d1d0>"
            ]
          },
          "execution_count": 4,
          "metadata": {},
          "output_type": "execute_result"
        },
        {
          "data": {
            "image/png": "[encoded data removed]",
            "text/plain": [
              "<Figure size 640x480 with 1 Axes>"
            ]
          },
          "metadata": {},
          "output_type": "display_data"
        }
      ],
      "source": [
        "pylab.scatter(data[:,0], target, color=\"r\")\n",
        "pylab.scatter(data[:,1], target, color=\"b\")"
      ]
    },
    {
      "cell_type": "code",
      "execution_count": 5,
      "metadata": {
        "id": "0b9li_KghWhR"
      },
      "outputs": [],
      "source": [
        "train_data, test_data, train_labels, test_labels = model_selection.train_test_split(data, target,\n",
        "                                                                                     test_size=0.3)"
      ]
    },
    {
      "cell_type": "markdown",
      "metadata": {
        "id": "11DHFdNHhWhR"
      },
      "source": [
        "#### LinearRegression"
      ]
    },
    {
      "cell_type": "code",
      "execution_count": 6,
      "metadata": {
        "id": "4b89s-KGhWhR"
      },
      "outputs": [],
      "source": [
        "linear_regressor = linear_model.LinearRegression()\n",
        "linear_regressor.fit(train_data, train_labels)\n",
        "predictions = linear_regressor.predict(test_data)"
      ]
    },
    {
      "cell_type": "code",
      "execution_count": 7,
      "metadata": {
        "id": "LM9NdrU8hWhR",
        "outputId": "1f4af575-f1ad-4540-83e6-387698c5e8ce"
      },
      "outputs": [
        {
          "name": "stdout",
          "output_type": "stream",
          "text": [
            "[ -44.51417742 -105.77758163   64.70214251   23.87701013   12.47089016\n",
            "  -36.44717565    1.72644759  -42.44469577   29.8208999    41.1068411\n",
            "  -16.79027112   17.64282734  -61.47026695  -17.27897399  -10.06708677\n",
            "  -24.77820218  -18.86438755  -37.31870104  -18.57607726   20.87713077\n",
            "  126.64909941   12.67156468   41.95683853   64.19559505   24.82763821\n",
            "   13.02656201  -45.27502383    0.34799656  -32.71074998  -57.46293828]\n"
          ]
        }
      ],
      "source": [
        "print(test_labels)"
      ]
    },
    {
      "cell_type": "code",
      "execution_count": 8,
      "metadata": {
        "id": "3NvbIG2qhWhS",
        "outputId": "6a29d173-9074-4f6d-83e7-0016d91790dd"
      },
      "outputs": [
        {
          "name": "stdout",
          "output_type": "stream",
          "text": [
            "[-5.56104433e+01 -1.03588652e+02  6.88495909e+01  3.22934240e+01\n",
            "  2.03464806e+01 -4.19635844e+01 -9.56823027e-02 -3.97668567e+01\n",
            "  3.21187365e+01  3.72852763e+01 -1.50218369e+01  2.23048027e+01\n",
            " -5.74041164e+01 -1.36870474e+01 -1.04653724e+01 -2.75262053e+01\n",
            " -1.93017510e+01 -3.57409332e+01 -2.52523146e+01  1.38763017e+01\n",
            "  1.27330055e+02  1.42157120e+01  4.37313726e+01  7.10125644e+01\n",
            "  3.13121046e+01  1.89705164e+01 -4.85469674e+01 -1.75624722e+00\n",
            " -4.40985029e+01 -5.55742632e+01]\n"
          ]
        }
      ],
      "source": [
        "print(predictions)"
      ]
    },
    {
      "cell_type": "code",
      "execution_count": 9,
      "metadata": {
        "id": "CmZvdYZ4hWhS",
        "outputId": "8c77d3e6-c5c1-476a-8137-7ac9739f73b2"
      },
      "outputs": [
        {
          "data": {
            "text/plain": [
              "4.156168113403243"
            ]
          },
          "execution_count": 9,
          "metadata": {},
          "output_type": "execute_result"
        }
      ],
      "source": [
        "metrics.mean_absolute_error(test_labels, predictions)"
      ]
    },
    {
      "cell_type": "code",
      "execution_count": 10,
      "metadata": {
        "id": "JSlIoF35hWhS",
        "outputId": "2afc0a15-8c64-4295-ffee-fa9d1e47b1cc"
      },
      "outputs": [
        {
          "name": "stdout",
          "output_type": "stream",
          "text": [
            "mean: -4.070071498779697, std: 1.0737104492890197\n"
          ]
        }
      ],
      "source": [
        "linear_scoring = model_selection.cross_val_score(linear_regressor, data, target, scoring=\"neg_mean_absolute_error\", cv=10)\n",
        "print(f\"mean: {linear_scoring.mean()}, std: {linear_scoring.std()}\")"
      ]
    },
    {
      "cell_type": "code",
      "execution_count": 11,
      "metadata": {
        "id": "mBtdkTMRhWhS"
      },
      "outputs": [],
      "source": [
        "scorer = metrics.make_scorer(metrics.mean_absolute_error, greater_is_better = True)"
      ]
    },
    {
      "cell_type": "code",
      "execution_count": 12,
      "metadata": {
        "id": "4SbntJRShWhS",
        "outputId": "d243ab60-05b3-40ca-c7c9-d9e0ded889cf"
      },
      "outputs": [
        {
          "name": "stdout",
          "output_type": "stream",
          "text": [
            "mean: 4.070071498779697, std: 1.0737104492890197\n"
          ]
        }
      ],
      "source": [
        "linear_scoring = model_selection.cross_val_score(linear_regressor, data, target, scoring=scorer, cv=10)\n",
        "print(f\"mean: {linear_scoring.mean()}, std: {linear_scoring.std()}\")"
      ]
    },
    {
      "cell_type": "code",
      "execution_count": 13,
      "metadata": {
        "id": "41i8uhXchWhS",
        "outputId": "0949ecbb-5c13-4d3e-ad51-fc847f45a737"
      },
      "outputs": [
        {
          "data": {
            "text/plain": [
              "array([38.07925837,  0.        ])"
            ]
          },
          "execution_count": 13,
          "metadata": {},
          "output_type": "execute_result"
        }
      ],
      "source": [
        "coef"
      ]
    },
    {
      "cell_type": "code",
      "execution_count": 14,
      "metadata": {
        "id": "AfQp2UO0hWhT",
        "outputId": "6781bd1b-3219-43dd-bb74-3e9d6c952d85"
      },
      "outputs": [
        {
          "data": {
            "text/plain": [
              "array([38.77647582,  0.58143037])"
            ]
          },
          "execution_count": 14,
          "metadata": {},
          "output_type": "execute_result"
        }
      ],
      "source": [
        "linear_regressor.coef_"
      ]
    },
    {
      "cell_type": "code",
      "execution_count": 15,
      "metadata": {
        "id": "fifG34YHhWhT",
        "outputId": "c712a179-86ab-4d33-dd72-4eb405cc66d9"
      },
      "outputs": [
        {
          "data": {
            "text/plain": [
              "-0.4114010770346388"
            ]
          },
          "execution_count": 15,
          "metadata": {},
          "output_type": "execute_result"
        }
      ],
      "source": [
        "linear_regressor.intercept_"
      ]
    },
    {
      "cell_type": "code",
      "execution_count": 16,
      "metadata": {
        "id": "k86LuiFghWhT",
        "outputId": "0071a24e-4ad2-4649-cdb4-c630dd568efe"
      },
      "outputs": [
        {
          "name": "stdout",
          "output_type": "stream",
          "text": [
            "y = 38.08*x1 + 0.00*x2\n"
          ]
        }
      ],
      "source": [
        "print(\"y = {:.2f}*x1 + {:.2f}*x2\".format(coef[0], coef[1]))"
      ]
    },
    {
      "cell_type": "code",
      "execution_count": 17,
      "metadata": {
        "id": "jZyfP_kahWhT",
        "outputId": "b6fcedbc-268e-4591-abf2-8b5bb89666e0"
      },
      "outputs": [
        {
          "name": "stdout",
          "output_type": "stream",
          "text": [
            "y = 38.78*x1 + 0.58*x2 + -0.41\n"
          ]
        }
      ],
      "source": [
        "print(\"y = {:.2f}*x1 + {:.2f}*x2 + {:.2f}\".format(linear_regressor.coef_[0],\n",
        "                                                  linear_regressor.coef_[1],\n",
        "                                                  linear_regressor.intercept_))"
      ]
    },
    {
      "cell_type": "markdown",
      "metadata": {
        "id": "7x4K0zXGhWhT"
      },
      "source": [
        "#### Lasso"
      ]
    },
    {
      "cell_type": "code",
      "execution_count": 18,
      "metadata": {
        "id": "Ou6psNX1hWhT"
      },
      "outputs": [],
      "source": [
        "lasso_regressor = linear_model.Lasso(random_state = 3)\n",
        "lasso_regressor.fit(train_data, train_labels)\n",
        "lasso_predictions = lasso_regressor.predict(test_data)"
      ]
    },
    {
      "cell_type": "code",
      "execution_count": 19,
      "metadata": {
        "id": "Vtgv1_wRhWhU",
        "outputId": "cbff0c30-081c-4ef1-9785-d6ee6d2efd98"
      },
      "outputs": [
        {
          "name": "stdout",
          "output_type": "stream",
          "text": [
            "mean: {lasso_scoring.mean()}, std: {lasso_scoring.std()}\n"
          ]
        }
      ],
      "source": [
        "lasso_scoring = model_selection.cross_val_score(lasso_regressor, data, target, scoring = scorer, cv = 10)\n",
        "print(\"mean: {lasso_scoring.mean()}, std: {lasso_scoring.std()}\")"
      ]
    },
    {
      "cell_type": "code",
      "execution_count": 20,
      "metadata": {
        "id": "DymG2i9BhWhU",
        "outputId": "b869049d-b772-460e-b347-d0dc185b0c34"
      },
      "outputs": [
        {
          "name": "stdout",
          "output_type": "stream",
          "text": [
            "[37.8550177  0.       ]\n"
          ]
        }
      ],
      "source": [
        "print(lasso_regressor.coef_)"
      ]
    },
    {
      "cell_type": "code",
      "execution_count": 21,
      "metadata": {
        "id": "-anfalNzhWhU",
        "outputId": "6fd437fb-07c1-49b8-eb78-dcc8f44ac1db"
      },
      "outputs": [
        {
          "name": "stdout",
          "output_type": "stream",
          "text": [
            "y = 38.08*x1 + 0.00*x2\n"
          ]
        }
      ],
      "source": [
        "print(\"y = {:.2f}*x1 + {:.2f}*x2\".format(coef[0], coef[1]))"
      ]
    },
    {
      "cell_type": "code",
      "execution_count": 22,
      "metadata": {
        "id": "DZm96eM-hWhU",
        "outputId": "13318c97-3a41-4bce-afaf-6f00bf53a840"
      },
      "outputs": [
        {
          "name": "stdout",
          "output_type": "stream",
          "text": [
            "y = 37.86*x1 + 0.00*x2\n"
          ]
        }
      ],
      "source": [
        "print(\"y = {:.2f}*x1 + {:.2f}*x2\".format(lasso_regressor.coef_[0], lasso_regressor.coef_[1]))"
      ]
    }
  ],
  "metadata": {
    "colab": {
      "include_colab_link": true,
      "provenance": []
    },
    "kernelspec": {
      "display_name": "Python 3 (ipykernel)",
      "language": "python",
      "name": "python3"
    },
    "language_info": {
      "codemirror_mode": {
        "name": "ipython",
        "version": 3
      },
      "file_extension": ".py",
      "mimetype": "text/x-python",
      "name": "python",
      "nbconvert_exporter": "python",
      "pygments_lexer": "ipython3",
      "version": "3.11.4"
    }
  },
  "nbformat": 4,
  "nbformat_minor": 0
}
