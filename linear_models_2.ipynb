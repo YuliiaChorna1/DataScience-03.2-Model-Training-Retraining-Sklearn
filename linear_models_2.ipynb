{
  "cells": [
    {
      "cell_type": "markdown",
      "metadata": {
        "id": "view-in-github",
        "colab_type": "text"
      },
      "source": [
        "<a href=\"https://colab.research.google.com/github/YuliiaChorna1/DataScience-03.2-Model-Training-Retraining-Sklearn/blob/main/linear_models_2.ipynb\" target=\"_parent\"><img src=\"https://colab.research.google.com/assets/colab-badge.svg\" alt=\"Open In Colab\"/></a>"
      ]
    },
    {
      "cell_type": "markdown",
      "metadata": {
        "id": "o7bZDEU-hWhL"
      },
      "source": [
        "# Sklearn"
      ]
    },
    {
      "cell_type": "markdown",
      "metadata": {
        "id": "jZnh0ZI2hWhN"
      },
      "source": [
        "## sklearn.linear_model"
      ]
    },
    {
      "cell_type": "code",
      "execution_count": null,
      "metadata": {
        "id": "S5dVpxTVhWhO"
      },
      "outputs": [],
      "source": [
        "from matplotlib.colors import ListedColormap\n",
        "from sklearn import model_selection, datasets, linear_model, metrics\n",
        "\n",
        "import numpy as np"
      ]
    },
    {
      "cell_type": "code",
      "execution_count": null,
      "metadata": {
        "id": "isQxCY3ihWhP",
        "outputId": "1da92454-1bc1-4031-bb6a-06910c99e438"
      },
      "outputs": [
        {
          "name": "stdout",
          "output_type": "stream",
          "text": [
            "Populating the interactive namespace from numpy and matplotlib\n"
          ]
        }
      ],
      "source": [
        "%pylab inline"
      ]
    },
    {
      "cell_type": "markdown",
      "metadata": {
        "id": "35tWQPCChWhP"
      },
      "source": [
        "### Лінійна регресія"
      ]
    },
    {
      "cell_type": "markdown",
      "metadata": {
        "id": "hO3trD3DhWhQ"
      },
      "source": [
        "#### Генерування даних"
      ]
    },
    {
      "cell_type": "code",
      "execution_count": null,
      "metadata": {
        "id": "KZleE8vvhWhQ"
      },
      "outputs": [],
      "source": [
        "data, target, coef = datasets.make_regression(n_features=2, n_informative=1, n_targets=1,\n",
        "                                              noise=5., coef=True, random_state=2)"
      ]
    },
    {
      "cell_type": "code",
      "execution_count": null,
      "metadata": {
        "id": "NybzOfC0hWhQ",
        "outputId": "39288897-fb3a-412c-b57a-7cf88dfb9b8a"
      },
      "outputs": [
        {
          "data": {
            "text/plain": [
              "<matplotlib.collections.PathCollection at 0x15dc34490>"
            ]
          },
          "execution_count": 30,
          "metadata": {},
          "output_type": "execute_result"
        },
        {
          "data": {
            "image/png": "[encoded data removed]",
            "text/plain": [
              "<Figure size 432x288 with 1 Axes>"
            ]
          },
          "metadata": {
            "needs_background": "light"
          },
          "output_type": "display_data"
        }
      ],
      "source": [
        "pylab.scatter(data[:,0], target, color=\"r\")\n",
        "pylab.scatter(data[:,1], target, color=\"b\")"
      ]
    },
    {
      "cell_type": "code",
      "execution_count": null,
      "metadata": {
        "id": "0b9li_KghWhR"
      },
      "outputs": [],
      "source": [
        "train_data, test_data, train_labels, test_labels = model_selection.train_test_split(data, target,\n",
        "                                                                                     test_size=0.3)"
      ]
    },
    {
      "cell_type": "markdown",
      "metadata": {
        "id": "11DHFdNHhWhR"
      },
      "source": [
        "#### LinearRegression"
      ]
    },
    {
      "cell_type": "code",
      "execution_count": null,
      "metadata": {
        "id": "4b89s-KGhWhR"
      },
      "outputs": [],
      "source": [
        "linear_regressor = linear_model.LinearRegression()\n",
        "linear_regressor.fit(train_data, train_labels)\n",
        "predictions = linear_regressor.predict(test_data)"
      ]
    },
    {
      "cell_type": "code",
      "execution_count": null,
      "metadata": {
        "id": "LM9NdrU8hWhR",
        "outputId": "1f4af575-f1ad-4540-83e6-387698c5e8ce"
      },
      "outputs": [
        {
          "name": "stdout",
          "output_type": "stream",
          "text": [
            "[ 44.41658249 -36.69728864  41.1068411   12.47089016 -91.477377\n",
            " -70.11132234  44.66274342 -37.31870104  20.87713077  23.87701013\n",
            " -14.97110322 -21.48288019 -12.98848753 -32.71074998  -1.42235396\n",
            " -84.32102748  13.31981235 -42.44469577 -10.29545833 -52.37232463\n",
            " -26.87743177 -16.85466265 -80.80239408 126.64909941 -10.27758354\n",
            " -11.18242389 -19.36956003  18.17188553  -4.38652971  13.02656201]\n"
          ]
        }
      ],
      "source": [
        "print(test_labels)"
      ]
    },
    {
      "cell_type": "code",
      "execution_count": null,
      "metadata": {
        "id": "3NvbIG2qhWhS",
        "outputId": "6a29d173-9074-4f6d-83e7-0016d91790dd"
      },
      "outputs": [
        {
          "name": "stdout",
          "output_type": "stream",
          "text": [
            "[ 44.26503842 -27.42039137  36.7402556   20.03621673 -93.39694723\n",
            " -66.36417021  50.88753682 -35.07085542  13.67264164  31.73690939\n",
            " -12.52109704 -24.38514927 -16.41140205 -43.48079873  -0.56783725\n",
            " -81.34937795  14.51912517 -39.20811293 -11.09482259 -40.64900059\n",
            " -28.06872529 -16.33618562 -78.33769265 125.5225152   -7.59763153\n",
            " -12.98181032 -31.99556123  18.4030131   -4.90026022  18.77790833]\n"
          ]
        }
      ],
      "source": [
        "print(predictions)"
      ]
    },
    {
      "cell_type": "code",
      "execution_count": null,
      "metadata": {
        "id": "CmZvdYZ4hWhS",
        "outputId": "8c77d3e6-c5c1-476a-8137-7ac9739f73b2"
      },
      "outputs": [
        {
          "data": {
            "text/plain": [
              "3.9932230711394907"
            ]
          },
          "execution_count": 35,
          "metadata": {},
          "output_type": "execute_result"
        }
      ],
      "source": [
        "metrics.mean_absolute_error(test_labels, predictions)"
      ]
    },
    {
      "cell_type": "code",
      "execution_count": null,
      "metadata": {
        "id": "JSlIoF35hWhS",
        "outputId": "2afc0a15-8c64-4295-ffee-fa9d1e47b1cc"
      },
      "outputs": [
        {
          "name": "stdout",
          "output_type": "stream",
          "text": [
            "mean: -4.070071498779696, std: 1.07371044928902\n"
          ]
        }
      ],
      "source": [
        "linear_scoring = model_selection.cross_val_score(linear_regressor, data, target, scoring=\"neg_mean_absolute_error\", cv=10)\n",
        "print(f\"mean: {linear_scoring.mean()}, std: {linear_scoring.std()}\")"
      ]
    },
    {
      "cell_type": "code",
      "execution_count": null,
      "metadata": {
        "id": "mBtdkTMRhWhS"
      },
      "outputs": [],
      "source": [
        "scorer = metrics.make_scorer(metrics.mean_absolute_error, greater_is_better = True)"
      ]
    },
    {
      "cell_type": "code",
      "execution_count": null,
      "metadata": {
        "id": "4SbntJRShWhS",
        "outputId": "d243ab60-05b3-40ca-c7c9-d9e0ded889cf"
      },
      "outputs": [
        {
          "name": "stdout",
          "output_type": "stream",
          "text": [
            "mean: 4.070071498779696, std: 1.07371044928902\n"
          ]
        }
      ],
      "source": [
        "linear_scoring = model_selection.cross_val_score(linear_regressor, data, target, scoring=scorer, cv=10)\n",
        "print(f\"mean: {linear_scoring.mean()}, std: {linear_scoring.std()}\")"
      ]
    },
    {
      "cell_type": "code",
      "execution_count": null,
      "metadata": {
        "id": "41i8uhXchWhS",
        "outputId": "0949ecbb-5c13-4d3e-ad51-fc847f45a737"
      },
      "outputs": [
        {
          "data": {
            "text/plain": [
              "array([38.07925837,  0.        ])"
            ]
          },
          "execution_count": 39,
          "metadata": {},
          "output_type": "execute_result"
        }
      ],
      "source": [
        "coef"
      ]
    },
    {
      "cell_type": "code",
      "execution_count": null,
      "metadata": {
        "id": "AfQp2UO0hWhT",
        "outputId": "6781bd1b-3219-43dd-bb74-3e9d6c952d85"
      },
      "outputs": [
        {
          "data": {
            "text/plain": [
              "array([38.24765461,  0.41105872])"
            ]
          },
          "execution_count": 40,
          "metadata": {},
          "output_type": "execute_result"
        }
      ],
      "source": [
        "linear_regressor.coef_"
      ]
    },
    {
      "cell_type": "code",
      "execution_count": null,
      "metadata": {
        "id": "fifG34YHhWhT",
        "outputId": "c712a179-86ab-4d33-dd72-4eb405cc66d9"
      },
      "outputs": [
        {
          "data": {
            "text/plain": [
              "-0.3191351244086571"
            ]
          },
          "execution_count": 41,
          "metadata": {},
          "output_type": "execute_result"
        }
      ],
      "source": [
        "linear_regressor.intercept_"
      ]
    },
    {
      "cell_type": "code",
      "execution_count": null,
      "metadata": {
        "id": "k86LuiFghWhT",
        "outputId": "0071a24e-4ad2-4649-cdb4-c630dd568efe"
      },
      "outputs": [
        {
          "name": "stdout",
          "output_type": "stream",
          "text": [
            "y = 38.08*x1 + 0.00*x2\n"
          ]
        }
      ],
      "source": [
        "print(\"y = {:.2f}*x1 + {:.2f}*x2\".format(coef[0], coef[1]))"
      ]
    },
    {
      "cell_type": "code",
      "execution_count": null,
      "metadata": {
        "id": "jZyfP_kahWhT",
        "outputId": "b6fcedbc-268e-4591-abf2-8b5bb89666e0"
      },
      "outputs": [
        {
          "name": "stdout",
          "output_type": "stream",
          "text": [
            "y = 38.25*x1 + 0.41*x2 + -0.32\n"
          ]
        }
      ],
      "source": [
        "print(\"y = {:.2f}*x1 + {:.2f}*x2 + {:.2f}\".format(linear_regressor.coef_[0],\n",
        "                                                  linear_regressor.coef_[1],\n",
        "                                                  linear_regressor.intercept_))"
      ]
    },
    {
      "cell_type": "markdown",
      "metadata": {
        "id": "7x4K0zXGhWhT"
      },
      "source": [
        "#### Lasso"
      ]
    },
    {
      "cell_type": "code",
      "execution_count": null,
      "metadata": {
        "id": "Ou6psNX1hWhT"
      },
      "outputs": [],
      "source": [
        "lasso_regressor = linear_model.Lasso(random_state = 3)\n",
        "lasso_regressor.fit(train_data, train_labels)\n",
        "lasso_predictions = lasso_regressor.predict(test_data)"
      ]
    },
    {
      "cell_type": "code",
      "execution_count": null,
      "metadata": {
        "id": "Vtgv1_wRhWhU",
        "outputId": "cbff0c30-081c-4ef1-9785-d6ee6d2efd98"
      },
      "outputs": [
        {
          "name": "stdout",
          "output_type": "stream",
          "text": [
            "mean: {lasso_scoring.mean()}, std: {lasso_scoring.std()}\n"
          ]
        }
      ],
      "source": [
        "lasso_scoring = model_selection.cross_val_score(lasso_regressor, data, target, scoring = scorer, cv = 10)\n",
        "print(\"mean: {lasso_scoring.mean()}, std: {lasso_scoring.std()}\")"
      ]
    },
    {
      "cell_type": "code",
      "execution_count": null,
      "metadata": {
        "id": "DymG2i9BhWhU",
        "outputId": "b869049d-b772-460e-b347-d0dc185b0c34"
      },
      "outputs": [
        {
          "name": "stdout",
          "output_type": "stream",
          "text": [
            "[37.39846496  0.        ]\n"
          ]
        }
      ],
      "source": [
        "print(lasso_regressor.coef_)"
      ]
    },
    {
      "cell_type": "code",
      "execution_count": null,
      "metadata": {
        "id": "-anfalNzhWhU",
        "outputId": "6fd437fb-07c1-49b8-eb78-dcc8f44ac1db"
      },
      "outputs": [
        {
          "name": "stdout",
          "output_type": "stream",
          "text": [
            "y = 38.08*x1 + 0.00*x2\n"
          ]
        }
      ],
      "source": [
        "print(\"y = {:.2f}*x1 + {:.2f}*x2\".format(coef[0], coef[1]))"
      ]
    },
    {
      "cell_type": "code",
      "execution_count": null,
      "metadata": {
        "id": "DZm96eM-hWhU",
        "outputId": "13318c97-3a41-4bce-afaf-6f00bf53a840"
      },
      "outputs": [
        {
          "name": "stdout",
          "output_type": "stream",
          "text": [
            "y = 37.40*x1 + 0.00*x2\n"
          ]
        }
      ],
      "source": [
        "print(\"y = {:.2f}*x1 + {:.2f}*x2\".format(lasso_regressor.coef_[0], lasso_regressor.coef_[1]))"
      ]
    }
  ],
  "metadata": {
    "kernelspec": {
      "display_name": "Python 3 (ipykernel)",
      "language": "python",
      "name": "python3"
    },
    "language_info": {
      "codemirror_mode": {
        "name": "ipython",
        "version": 3
      },
      "file_extension": ".py",
      "mimetype": "text/x-python",
      "name": "python",
      "nbconvert_exporter": "python",
      "pygments_lexer": "ipython3",
      "version": "3.8.2"
    },
    "colab": {
      "provenance": [],
      "include_colab_link": true
    }
  },
  "nbformat": 4,
  "nbformat_minor": 0
}