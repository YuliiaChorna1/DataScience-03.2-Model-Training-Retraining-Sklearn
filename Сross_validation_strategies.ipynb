{
  "cells": [
    {
      "cell_type": "markdown",
      "metadata": {
        "id": "view-in-github",
        "colab_type": "text"
      },
      "source": [
        "<a href=\"https://colab.research.google.com/github/YuliiaChorna1/DataScience-03.2-Model-Training-Retraining-Sklearn/blob/main/%D0%A1ross_validation_strategies.ipynb\" target=\"_parent\"><img src=\"https://colab.research.google.com/assets/colab-badge.svg\" alt=\"Open In Colab\"/></a>"
      ]
    },
    {
      "cell_type": "markdown",
      "metadata": {
        "id": "TdgcrNQmUR56"
      },
      "source": [
        "# Sklearn"
      ]
    },
    {
      "cell_type": "markdown",
      "metadata": {
        "id": "VRW8sOrwUR58"
      },
      "source": [
        "документація: http://scikit-learn.org/stable/modules/cross_validation.html"
      ]
    },
    {
      "cell_type": "markdown",
      "metadata": {
        "id": "y6vJt4NvUR58"
      },
      "source": [
        "## sklearn.model_selection"
      ]
    },
    {
      "cell_type": "markdown",
      "metadata": {
        "id": "_MQ2zLdaUR5-"
      },
      "source": [
        "### Разове розбиття даних на навчання та тест за допомогою train_test_split"
      ]
    },
    {
      "cell_type": "code",
      "execution_count": null,
      "metadata": {
        "id": "6Rf8xuh-UR59"
      },
      "outputs": [],
      "source": [
        "from sklearn import model_selection, datasets\n",
        "\n",
        "import numpy as np"
      ]
    },
    {
      "cell_type": "code",
      "execution_count": null,
      "metadata": {
        "id": "b4MiTvzeUR5-"
      },
      "outputs": [],
      "source": [
        "iris = datasets.load_iris()"
      ]
    },
    {
      "cell_type": "code",
      "execution_count": null,
      "metadata": {
        "id": "XHsD4nQ3UR5-"
      },
      "outputs": [],
      "source": [
        "train_data, test_data, train_labels, test_labels = model_selection.train_test_split(iris.data, iris.target,\n",
        "                                                                                     test_size = 0.3)"
      ]
    },
    {
      "cell_type": "code",
      "execution_count": null,
      "metadata": {
        "id": "yDP5RJrsUR5-",
        "outputId": "9ec40f62-ba3a-43e6-d425-416a23dc1439"
      },
      "outputs": [
        {
          "data": {
            "text/plain": [
              "0.3"
            ]
          },
          "execution_count": 12,
          "metadata": {},
          "output_type": "execute_result"
        }
      ],
      "source": [
        "len(test_labels) / len(iris.data)"
      ]
    },
    {
      "cell_type": "code",
      "execution_count": null,
      "metadata": {
        "id": "UEPLKV-iUR5_",
        "outputId": "3b896b7f-d7a9-4556-f1e9-bf68d58a9b05"
      },
      "outputs": [
        {
          "name": "stdout",
          "output_type": "stream",
          "text": [
            "Traing sample size: 105\n",
            "Testing sample size: 45\n"
          ]
        }
      ],
      "source": [
        "print(f\"Traing sample size: {len(train_data)}\")\n",
        "print(f\"Testing sample size: {len(test_data)}\")"
      ]
    },
    {
      "cell_type": "code",
      "execution_count": null,
      "metadata": {
        "id": "LXIzuIokUR5_",
        "outputId": "50765549-435d-4c2b-aeee-4804c7286539"
      },
      "outputs": [
        {
          "name": "stdout",
          "output_type": "stream",
          "text": [
            "Traing sample size [[5.5 2.4 3.7 1. ]\n",
            " [6.9 3.1 5.4 2.1]\n",
            " [7.4 2.8 6.1 1.9]\n",
            " [6.8 2.8 4.8 1.4]\n",
            " [5.  3.2 1.2 0.2]]\n",
            "Testing sample size [[6.  2.7 5.1 1.6]\n",
            " [5.5 2.6 4.4 1.2]\n",
            " [4.6 3.4 1.4 0.3]\n",
            " [6.3 3.3 4.7 1.6]\n",
            " [6.9 3.2 5.7 2.3]]\n"
          ]
        }
      ],
      "source": [
        "print(f\"Traing sample size {train_data[:5]}\")\n",
        "print(f\"Testing sample size {test_data[:5]}\")"
      ]
    },
    {
      "cell_type": "markdown",
      "metadata": {
        "id": "bpu5YG_HUR6A"
      },
      "source": [
        "### Стратегії проведення крос-валідації"
      ]
    },
    {
      "cell_type": "code",
      "execution_count": null,
      "metadata": {
        "id": "3svHPe1wUR6A"
      },
      "outputs": [],
      "source": [
        "#згенеруємо коротку подібність датасету, де елементи збігаються з порядковим номером\n",
        "X = range(10)"
      ]
    },
    {
      "cell_type": "code",
      "execution_count": null,
      "metadata": {
        "id": "f6gfv9DfUR6A",
        "outputId": "449f2a07-aa52-4280-be8b-48212033170a"
      },
      "outputs": [
        {
          "name": "stdout",
          "output_type": "stream",
          "text": [
            "Training labels [1 2 2 1 0 1 1 1 2 0 0 1 1 2 2 1 0 0 1 2 0 0 2 1 1 0 2 0 0 2 0 2 0 0 1 1 2\n",
            " 2 0 2 0 0 0 1 0 2 2 0 2 2 1 1 2 1 2 2 1 0 1 2 0 2 2 0 0 2 2 2 0 1 1 1 0 2\n",
            " 2 1 2 0 0 1 2 2 2 2 0 1 1 0 2 1 1 2 1 1 0 2 0 1 2 1 2 1 1 0 0]\n",
            "Testing labels [1 1 0 1 2 0 2 2 0 0 2 0 2 1 0 0 2 1 1 0 1 2 0 1 0 0 1 2 1 0 1 1 2 2 0 1 1\n",
            " 0 0 2 1 2 0 0 1]\n"
          ]
        }
      ],
      "source": [
        "print(f\"Training labels {train_labels}\")\n",
        "print(f\"Testing labels {test_labels}\")"
      ]
    },
    {
      "cell_type": "markdown",
      "metadata": {
        "id": "TRJs1QYdUR6A"
      },
      "source": [
        "#### KFold"
      ]
    },
    {
      "cell_type": "code",
      "execution_count": null,
      "metadata": {
        "id": "wk7-TWP1UR6A",
        "outputId": "329ee2b5-c4d9-425c-8bca-6734036b01e9"
      },
      "outputs": [
        {
          "name": "stdout",
          "output_type": "stream",
          "text": [
            "[2 3 4 5 6 7 8 9] [0 1]\n",
            "[0 1 4 5 6 7 8 9] [2 3]\n",
            "[0 1 2 3 6 7 8 9] [4 5]\n",
            "[0 1 2 3 4 5 8 9] [6 7]\n",
            "[0 1 2 3 4 5 6 7] [8 9]\n"
          ]
        }
      ],
      "source": [
        "kf = model_selection.KFold(n_splits = 5)\n",
        "for train_indices, test_indices in kf.split(X):\n",
        "    print(train_indices, test_indices)"
      ]
    },
    {
      "cell_type": "code",
      "execution_count": null,
      "metadata": {
        "id": "SUEid5hXUR6B",
        "outputId": "76021b60-7a1a-42bd-dc46-f1979f04a573"
      },
      "outputs": [
        {
          "name": "stdout",
          "output_type": "stream",
          "text": [
            "[0 3 4 5 9] [1 2 6 7 8]\n",
            "[1 2 6 7 8] [0 3 4 5 9]\n"
          ]
        }
      ],
      "source": [
        "kf = model_selection.KFold(n_splits = 2, shuffle = True)\n",
        "for train_indices, test_indices in kf.split(X):\n",
        "    print(train_indices, test_indices)"
      ]
    },
    {
      "cell_type": "code",
      "execution_count": null,
      "metadata": {
        "id": "nBK09ooIUR6B",
        "outputId": "da2a7bdd-9725-4ba2-cc3d-7cc699813f6b"
      },
      "outputs": [
        {
          "name": "stdout",
          "output_type": "stream",
          "text": [
            "[1 3 5 7 8] [0 2 4 6 9]\n",
            "[0 2 4 6 9] [1 3 5 7 8]\n"
          ]
        }
      ],
      "source": [
        "kf = model_selection.KFold(n_splits = 2, shuffle = True, random_state = 1)\n",
        "for train_indices, test_indices in kf.split(X):\n",
        "    print(train_indices, test_indices)"
      ]
    },
    {
      "cell_type": "markdown",
      "metadata": {
        "id": "dvW_gCNcUR6B"
      },
      "source": [
        "#### StratifiedKFold"
      ]
    },
    {
      "cell_type": "code",
      "execution_count": null,
      "metadata": {
        "id": "wgMord47UR6B",
        "outputId": "c9fb07a3-6d6a-471c-cad0-a6c72cef1be2"
      },
      "outputs": [
        {
          "name": "stdout",
          "output_type": "stream",
          "text": [
            "[0 0 0 0 0 1 1 1 1 1]\n",
            "[3 4 6 8 9] [0 1 2 5 7]\n",
            "[0 1 2 5 7] [3 4 6 8 9]\n"
          ]
        }
      ],
      "source": [
        "y = np.array([0] * 5 + [1] * 5)\n",
        "print(y)\n",
        "\n",
        "skf = model_selection.StratifiedKFold(n_splits = 2, shuffle = True, random_state = 0)\n",
        "for train_indices, test_indices in skf.split(X, y):\n",
        "    print(train_indices, test_indices)"
      ]
    },
    {
      "cell_type": "code",
      "execution_count": null,
      "metadata": {
        "id": "303P3jaKUR6B",
        "outputId": "46300c46-fc1d-413a-d0c8-27c47df34d3a"
      },
      "outputs": [
        {
          "name": "stdout",
          "output_type": "stream",
          "text": [
            "[0 1 0 1 0 1 0 1 0 1]\n",
            "[0 1 6 7 9] [2 3 4 5 8]\n",
            "[2 3 4 5 8] [0 1 6 7 9]\n"
          ]
        }
      ],
      "source": [
        "target = np.array([0, 1] * 5)\n",
        "print(target)\n",
        "\n",
        "skf = model_selection.StratifiedKFold(n_splits = 2,shuffle = True)\n",
        "for train_indices, test_indices in skf.split(X, target):\n",
        "    print(train_indices, test_indices)"
      ]
    },
    {
      "cell_type": "markdown",
      "metadata": {
        "id": "3aTF-ZHqUR6C"
      },
      "source": [
        "#### ShuffleSplit"
      ]
    },
    {
      "cell_type": "code",
      "execution_count": null,
      "metadata": {
        "id": "0wQnPHNiUR6C",
        "outputId": "77e14a4d-972b-426b-8367-3f576c073fe3"
      },
      "outputs": [
        {
          "name": "stdout",
          "output_type": "stream",
          "text": [
            "[4 0 6 7 3 8 1 5] [9 2]\n",
            "[6 5 2 3 9 1 4 8] [7 0]\n",
            "[1 2 4 8 0 3 9 7] [5 6]\n",
            "[3 9 8 1 2 0 5 4] [7 6]\n",
            "[7 8 0 3 5 9 2 6] [1 4]\n",
            "[4 6 2 8 3 7 0 5] [1 9]\n",
            "[8 2 4 1 3 0 5 7] [9 6]\n",
            "[0 4 8 1 9 7 5 2] [6 3]\n",
            "[1 8 3 6 4 0 2 5] [9 7]\n",
            "[6 9 3 0 4 2 8 1] [5 7]\n"
          ]
        }
      ],
      "source": [
        "ss = model_selection.ShuffleSplit(n_splits = 10, test_size = 0.2)\n",
        "\n",
        "for train_indices, test_indices in ss.split(X):\n",
        "    print(train_indices, test_indices)"
      ]
    },
    {
      "cell_type": "markdown",
      "metadata": {
        "id": "Yx4dx_64UR6C"
      },
      "source": [
        "#### StratifiedShuffleSplit"
      ]
    },
    {
      "cell_type": "code",
      "execution_count": null,
      "metadata": {
        "id": "CuHass8rUR6C",
        "outputId": "d09d8f97-591d-4911-f2ec-552a0036bbe2"
      },
      "outputs": [
        {
          "name": "stdout",
          "output_type": "stream",
          "text": [
            "[0 0 0 0 0 1 1 1 1 1]\n",
            "[6 3 4 5 8 1 9 2] [0 7]\n",
            "[3 1 6 7 9 0 2 8] [4 5]\n",
            "[2 5 4 8 6 0 3 9] [1 7]\n",
            "[5 6 7 4 0 1 2 8] [9 3]\n"
          ]
        }
      ],
      "source": [
        "target = np.array([0] * 5 + [1] * 5)\n",
        "print(target)\n",
        "\n",
        "sss = model_selection.StratifiedShuffleSplit(n_splits = 4, test_size = 0.2)\n",
        "for train_indices, test_indices in sss.split(X, target):\n",
        "    print(train_indices, test_indices)"
      ]
    },
    {
      "cell_type": "markdown",
      "metadata": {
        "id": "wqOnRtS-UR6D"
      },
      "source": [
        "#### Leave-One-Out"
      ]
    },
    {
      "cell_type": "markdown",
      "metadata": {
        "id": "CH_SvZERUR6D"
      },
      "source": [
        "Більше стратегій проведення крос-валідації є тут: http://scikit-learn.org/stable/modules/cross_validation.html#cross-validation-iterators"
      ]
    },
    {
      "cell_type": "code",
      "execution_count": null,
      "metadata": {
        "id": "FaFoLceKUR6D",
        "outputId": "42f6d8dc-6cd9-4eac-8a29-4c23767f59fe"
      },
      "outputs": [
        {
          "name": "stdout",
          "output_type": "stream",
          "text": [
            "[1 2 3 4 5 6 7 8 9] [0]\n",
            "[0 2 3 4 5 6 7 8 9] [1]\n",
            "[0 1 3 4 5 6 7 8 9] [2]\n",
            "[0 1 2 4 5 6 7 8 9] [3]\n",
            "[0 1 2 3 5 6 7 8 9] [4]\n",
            "[0 1 2 3 4 6 7 8 9] [5]\n",
            "[0 1 2 3 4 5 7 8 9] [6]\n",
            "[0 1 2 3 4 5 6 8 9] [7]\n",
            "[0 1 2 3 4 5 6 7 9] [8]\n",
            "[0 1 2 3 4 5 6 7 8] [9]\n"
          ]
        }
      ],
      "source": [
        "loo = model_selection.LeaveOneOut()\n",
        "\n",
        "for train_indices, test_index in loo.split(X):\n",
        "    print(train_indices, test_index)"
      ]
    }
  ],
  "metadata": {
    "anaconda-cloud": {},
    "kernelspec": {
      "display_name": "Python 3 (ipykernel)",
      "language": "python",
      "name": "python3"
    },
    "language_info": {
      "codemirror_mode": {
        "name": "ipython",
        "version": 3
      },
      "file_extension": ".py",
      "mimetype": "text/x-python",
      "name": "python",
      "nbconvert_exporter": "python",
      "pygments_lexer": "ipython3",
      "version": "3.8.2"
    },
    "colab": {
      "provenance": [],
      "include_colab_link": true
    }
  },
  "nbformat": 4,
  "nbformat_minor": 0
}