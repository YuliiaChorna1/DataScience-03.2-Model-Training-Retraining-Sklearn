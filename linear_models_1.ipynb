{
  "cells": [
    {
      "cell_type": "markdown",
      "metadata": {
        "id": "view-in-github",
        "colab_type": "text"
      },
      "source": [
        "<a href=\"https://colab.research.google.com/github/YuliiaChorna1/DataScience-03.2-Model-Training-Retraining-Sklearn/blob/main/linear_models_1.ipynb\" target=\"_parent\"><img src=\"https://colab.research.google.com/assets/colab-badge.svg\" alt=\"Open In Colab\"/></a>"
      ]
    },
    {
      "cell_type": "markdown",
      "metadata": {
        "id": "0NZwcKlQf8Nm"
      },
      "source": [
        "# Sklearn"
      ]
    },
    {
      "cell_type": "markdown",
      "metadata": {
        "id": "cYHEm7uqf8No"
      },
      "source": [
        "## sklearn.linear_model"
      ]
    },
    {
      "cell_type": "markdown",
      "metadata": {
        "id": "VjbAlUvff8Np"
      },
      "source": [
        "**linear_model:**\n",
        "* RidgeClassifier\n",
        "* SGDClassifier\n",
        "* SGDRegressor\n",
        "* LinearRegression\n",
        "* LogisticRegression\n",
        "* Lasso\n",
        "* etc"
      ]
    },
    {
      "cell_type": "markdown",
      "metadata": {
        "id": "zSV9-0KYf8Np"
      },
      "source": [
        "Документація: http://scikit-learn.org/stable/modules/classes.html#module-sklearn.linear_model\n",
        "\n",
        "Приклади: http://scikit-learn.org/stable/modules/linear_model.html#linear-model"
      ]
    },
    {
      "cell_type": "code",
      "execution_count": null,
      "metadata": {
        "id": "7Ds4fvSdf8Nq"
      },
      "outputs": [],
      "source": [
        "from matplotlib.colors import ListedColormap\n",
        "from sklearn import model_selection, datasets, linear_model, metrics\n",
        "\n",
        "import numpy as np"
      ]
    },
    {
      "cell_type": "code",
      "execution_count": null,
      "metadata": {
        "id": "1Y3EFuFBf8Nr",
        "outputId": "8872c777-b63e-4b2b-f3b0-149b27361d1c"
      },
      "outputs": [
        {
          "name": "stdout",
          "output_type": "stream",
          "text": [
            "Populating the interactive namespace from numpy and matplotlib\n"
          ]
        }
      ],
      "source": [
        "%pylab inline"
      ]
    },
    {
      "cell_type": "markdown",
      "metadata": {
        "id": "AnfxGIqdf8Nr"
      },
      "source": [
        "### Генерування даних"
      ]
    },
    {
      "cell_type": "code",
      "execution_count": null,
      "metadata": {
        "id": "W_XCkEFvf8Ns"
      },
      "outputs": [],
      "source": [
        "blobs = datasets.make_blobs(centers=2, cluster_std=5.5, random_state=42)"
      ]
    },
    {
      "cell_type": "code",
      "execution_count": null,
      "metadata": {
        "id": "hckibYFdf8Ns",
        "outputId": "1eef2332-0e6a-430f-fbb0-5c74320d240b"
      },
      "outputs": [
        {
          "data": {
            "text/plain": [
              "<matplotlib.collections.PathCollection at 0x1611f3ee0>"
            ]
          },
          "execution_count": 46,
          "metadata": {},
          "output_type": "execute_result"
        },
        {
          "data": {
            "image/png": "[encoded data removed]",
            "text/plain": [
              "<Figure size 576x576 with 1 Axes>"
            ]
          },
          "metadata": {
            "needs_background": "light"
          },
          "output_type": "display_data"
        }
      ],
      "source": [
        "colors = ListedColormap([\"red\", \"blue\"])\n",
        "\n",
        "pylab.figure(figsize(8, 8))\n",
        "pylab.scatter([x[0] for x in blobs[0]], [x[1] for x in blobs[0]], c=blobs[1], cmap=colors)"
      ]
    },
    {
      "cell_type": "code",
      "execution_count": null,
      "metadata": {
        "id": "i4_1DEYof8Ns"
      },
      "outputs": [],
      "source": [
        "train_data, test_data, train_labels, test_labels = model_selection.train_test_split(blobs[0], blobs[1],\n",
        "                                                                                    test_size=0.3,\n",
        "                                                                                    random_state=42)"
      ]
    },
    {
      "cell_type": "markdown",
      "metadata": {
        "id": "EHmEXbBqf8Nt"
      },
      "source": [
        "### Лінійна класифікація"
      ]
    },
    {
      "cell_type": "markdown",
      "metadata": {
        "id": "-CoEdllDf8Nt"
      },
      "source": [
        "#### RidgeClassifier"
      ]
    },
    {
      "cell_type": "code",
      "execution_count": null,
      "metadata": {
        "id": "3xE2SQe-f8Nt"
      },
      "outputs": [],
      "source": [
        "ridge_classifier = linear_model.RidgeClassifier(random_state=1)"
      ]
    },
    {
      "cell_type": "code",
      "execution_count": null,
      "metadata": {
        "id": "k-brjze2f8Nt",
        "outputId": "ef5af411-e101-4b51-977c-45cbc358fb0b"
      },
      "outputs": [
        {
          "data": {
            "text/plain": [
              "RidgeClassifier(random_state=1)"
            ]
          },
          "execution_count": 49,
          "metadata": {},
          "output_type": "execute_result"
        }
      ],
      "source": [
        "ridge_classifier.fit(train_data, train_labels)"
      ]
    },
    {
      "cell_type": "code",
      "execution_count": null,
      "metadata": {
        "id": "m9neFHELf8Nt"
      },
      "outputs": [],
      "source": [
        "ridge_predictions = ridge_classifier.predict(test_data)"
      ]
    },
    {
      "cell_type": "code",
      "execution_count": null,
      "metadata": {
        "id": "TG8Xg3Zof8Nt",
        "outputId": "efeecfbc-cba8-4dcc-cc04-136d1f212ae7"
      },
      "outputs": [
        {
          "name": "stdout",
          "output_type": "stream",
          "text": [
            "[0 1 0 0 1 0 1 1 0 0 1 0 1 0 1 1 1 0 0 0 1 1 1 1 1 1 0 0 0 1]\n"
          ]
        }
      ],
      "source": [
        "print(test_labels)"
      ]
    },
    {
      "cell_type": "code",
      "execution_count": null,
      "metadata": {
        "id": "BHH6JGUBf8Nu",
        "outputId": "55e26fe7-deff-4693-ce3f-db58b195736b"
      },
      "outputs": [
        {
          "name": "stdout",
          "output_type": "stream",
          "text": [
            "[0 1 0 1 1 1 1 1 1 0 1 0 1 1 1 1 1 0 0 0 1 1 1 0 1 1 0 1 0 1]\n"
          ]
        }
      ],
      "source": [
        "print(ridge_predictions)"
      ]
    },
    {
      "cell_type": "code",
      "execution_count": null,
      "metadata": {
        "id": "gefVCE3tf8Nu",
        "outputId": "58c7ec0d-78a6-4002-8ef1-8e1227e99935"
      },
      "outputs": [
        {
          "data": {
            "text/plain": [
              "0.8"
            ]
          },
          "execution_count": 53,
          "metadata": {},
          "output_type": "execute_result"
        }
      ],
      "source": [
        "metrics.accuracy_score(test_labels, ridge_predictions)"
      ]
    },
    {
      "cell_type": "code",
      "execution_count": null,
      "metadata": {
        "id": "J8GYqcFjf8Nu",
        "outputId": "1cd8870c-514f-41f8-a582-34065c762dcf"
      },
      "outputs": [
        {
          "data": {
            "text/plain": [
              "array([[ 0.09600369, -0.04736985]])"
            ]
          },
          "execution_count": 54,
          "metadata": {},
          "output_type": "execute_result"
        }
      ],
      "source": [
        "ridge_classifier.coef_"
      ]
    },
    {
      "cell_type": "code",
      "execution_count": null,
      "metadata": {
        "id": "mo6vkJ1yf8Nu",
        "outputId": "effcea4b-7f99-46dd-984c-8d4547ea1685"
      },
      "outputs": [
        {
          "data": {
            "text/plain": [
              "array([0.30601131])"
            ]
          },
          "execution_count": 55,
          "metadata": {},
          "output_type": "execute_result"
        }
      ],
      "source": [
        "ridge_classifier.intercept_"
      ]
    },
    {
      "cell_type": "markdown",
      "metadata": {
        "id": "yxuIxJaRf8Nu"
      },
      "source": [
        "#### LogisticRegression"
      ]
    },
    {
      "cell_type": "code",
      "execution_count": null,
      "metadata": {
        "id": "q5gbhTzXf8Nu"
      },
      "outputs": [],
      "source": [
        "log_regressor = linear_model.LogisticRegression(random_state=1)\n",
        "log_regressor.fit(train_data, train_labels)\n",
        "\n",
        "lr_predictions = log_regressor.predict(test_data)\n",
        "lr_proba_predictions = log_regressor.predict_proba(test_data)"
      ]
    },
    {
      "cell_type": "code",
      "execution_count": null,
      "metadata": {
        "id": "GU-3Wg4Jf8Nu",
        "outputId": "1634e7c3-a6e6-42c7-91da-225e0e0cf39f"
      },
      "outputs": [
        {
          "name": "stdout",
          "output_type": "stream",
          "text": [
            "[0 1 0 0 1 0 1 1 0 0 1 0 1 0 1 1 1 0 0 0 1 1 1 1 1 1 0 0 0 1]\n"
          ]
        }
      ],
      "source": [
        "print(test_labels)"
      ]
    },
    {
      "cell_type": "code",
      "execution_count": null,
      "metadata": {
        "id": "Gnq_rPLXf8Nu",
        "outputId": "81c8159f-3713-4260-f025-d8254bace03b"
      },
      "outputs": [
        {
          "name": "stdout",
          "output_type": "stream",
          "text": [
            "[0 1 0 1 1 1 1 1 1 0 1 0 1 1 1 1 1 0 0 0 1 1 1 0 1 1 1 1 0 1]\n"
          ]
        }
      ],
      "source": [
        "print(lr_predictions)"
      ]
    },
    {
      "cell_type": "code",
      "execution_count": null,
      "metadata": {
        "id": "-0JfVjsRf8Nv",
        "outputId": "6be0f4c8-263d-48ba-a456-775c380e237d"
      },
      "outputs": [
        {
          "name": "stdout",
          "output_type": "stream",
          "text": [
            "[[8.92589970e-01 1.07410030e-01]\n",
            " [4.29379184e-02 9.57062082e-01]\n",
            " [9.74779832e-01 2.52201675e-02]\n",
            " [7.74059603e-02 9.22594040e-01]\n",
            " [4.40784175e-02 9.55921583e-01]\n",
            " [2.61073282e-01 7.38926718e-01]\n",
            " [3.54052268e-03 9.96459477e-01]\n",
            " [1.36122190e-02 9.86387781e-01]\n",
            " [4.61202643e-01 5.38797357e-01]\n",
            " [9.17005286e-01 8.29947139e-02]\n",
            " [1.49840175e-02 9.85015983e-01]\n",
            " [8.56213324e-01 1.43786676e-01]\n",
            " [8.80533115e-03 9.91194669e-01]\n",
            " [1.04805627e-01 8.95194373e-01]\n",
            " [5.15224220e-04 9.99484776e-01]\n",
            " [1.16667944e-01 8.83332056e-01]\n",
            " [2.62055599e-02 9.73794440e-01]\n",
            " [9.36932477e-01 6.30675229e-02]\n",
            " [9.58464449e-01 4.15355510e-02]\n",
            " [9.84643858e-01 1.53561421e-02]\n",
            " [5.47315624e-03 9.94526844e-01]\n",
            " [1.80357045e-02 9.81964296e-01]\n",
            " [8.90312322e-02 9.10968768e-01]\n",
            " [5.54429071e-01 4.45570929e-01]\n",
            " [4.39851390e-02 9.56014861e-01]\n",
            " [2.00881881e-01 7.99118119e-01]\n",
            " [4.88395786e-01 5.11604214e-01]\n",
            " [4.27439823e-01 5.72560177e-01]\n",
            " [9.57207868e-01 4.27921319e-02]\n",
            " [1.24397527e-03 9.98756025e-01]]\n"
          ]
        }
      ],
      "source": [
        "print(lr_proba_predictions)"
      ]
    },
    {
      "cell_type": "code",
      "execution_count": null,
      "metadata": {
        "id": "qgZTeEqYf8Nv",
        "outputId": "50c4e2a2-da4e-48fc-8ec5-9ff25c3c5772"
      },
      "outputs": [
        {
          "name": "stdout",
          "output_type": "stream",
          "text": [
            "0.7666666666666667\n"
          ]
        }
      ],
      "source": [
        "print(metrics.accuracy_score(test_labels, lr_predictions))"
      ]
    },
    {
      "cell_type": "code",
      "execution_count": null,
      "metadata": {
        "id": "fMEPQYqif8Nv",
        "outputId": "13b8058d-8fa6-4b5c-c533-b2b5e65da8df"
      },
      "outputs": [
        {
          "name": "stdout",
          "output_type": "stream",
          "text": [
            "0.8\n"
          ]
        }
      ],
      "source": [
        "print(metrics.accuracy_score(test_labels, ridge_predictions))"
      ]
    },
    {
      "cell_type": "markdown",
      "metadata": {
        "id": "BznAs3HOf8Nv"
      },
      "source": [
        "### Оцінка якості згідно з cross-validation"
      ]
    },
    {
      "cell_type": "markdown",
      "metadata": {
        "id": "FZgGhngwf8Nv"
      },
      "source": [
        "#### cross_val_score"
      ]
    },
    {
      "cell_type": "code",
      "execution_count": null,
      "metadata": {
        "id": "WiwJQUuff8Nv"
      },
      "outputs": [],
      "source": [
        "ridge_scoring = model_selection.cross_val_score(ridge_classifier, blobs[0], blobs[1], scoring=\"accuracy\", cv=10)"
      ]
    },
    {
      "cell_type": "code",
      "execution_count": null,
      "metadata": {
        "id": "7o0j3xYQf8Nv"
      },
      "outputs": [],
      "source": [
        "lr_scoring = model_selection.cross_val_score(log_regressor, blobs[0], blobs[1], scoring=\"accuracy\", cv=10)"
      ]
    },
    {
      "cell_type": "code",
      "execution_count": null,
      "metadata": {
        "id": "-tGyiFyFf8Nv",
        "outputId": "690af78e-3841-43f2-ddbe-eac7a757ecfb"
      },
      "outputs": [
        {
          "data": {
            "text/plain": [
              "array([0.9, 0.6, 0.9, 0.7, 0.8, 0.8, 0.9, 0.8, 0.9, 0.8])"
            ]
          },
          "execution_count": 67,
          "metadata": {},
          "output_type": "execute_result"
        }
      ],
      "source": [
        "lr_scoring"
      ]
    },
    {
      "cell_type": "code",
      "execution_count": null,
      "metadata": {
        "id": "BhlbkDcTf8Nv",
        "outputId": "31a00245-21fc-4fb1-a6a0-c4f71452fe16"
      },
      "outputs": [
        {
          "name": "stdout",
          "output_type": "stream",
          "text": [
            "Ridge mean: 0.8100000000000002, max: 0.9, min: 0.6, std: 0.09433981132056606\n"
          ]
        }
      ],
      "source": [
        "score_mean = ridge_scoring.mean()\n",
        "score_max = ridge_scoring.max()\n",
        "score_min = ridge_scoring.min()\n",
        "score_std = ridge_scoring.std()\n",
        "print(f\"Ridge mean: {score_mean}, max: {score_max}, min: {score_min}, std: {score_std}\")"
      ]
    },
    {
      "cell_type": "code",
      "execution_count": null,
      "metadata": {
        "id": "rctK4nT6f8Nw",
        "outputId": "8d6d3180-2db7-4b16-b3be-cc6bd45ddb73"
      },
      "outputs": [
        {
          "name": "stdout",
          "output_type": "stream",
          "text": [
            "Log mean: 0.8100000000000002, max: 0.9, min: 0.6, std: 0.09433981132056606\n"
          ]
        }
      ],
      "source": [
        "lr_score_mean = lr_scoring.mean()\n",
        "lr_score_max = lr_scoring.max()\n",
        "lr_score_min = lr_scoring.min()\n",
        "lr_score_std = lr_scoring.std()\n",
        "\n",
        "print(f\"Log mean: {lr_score_mean}, max: {lr_score_max}, min: {lr_score_min}, std: {lr_score_std}\")"
      ]
    },
    {
      "cell_type": "markdown",
      "metadata": {
        "id": "m4ougfWEf8Nw"
      },
      "source": [
        "#### cross_val_score із заданим scorer та cv_strategy"
      ]
    },
    {
      "cell_type": "code",
      "execution_count": null,
      "metadata": {
        "id": "iRtfzAXuf8Nw"
      },
      "outputs": [],
      "source": [
        "scorer = metrics.make_scorer(metrics.accuracy_score)"
      ]
    },
    {
      "cell_type": "code",
      "execution_count": null,
      "metadata": {
        "id": "NwsVp4u2f8Nw",
        "outputId": "888807b4-be98-4ef4-e768-347f9a0e24f7"
      },
      "outputs": [
        {
          "data": {
            "text/plain": [
              "20"
            ]
          },
          "execution_count": 71,
          "metadata": {},
          "output_type": "execute_result"
        }
      ],
      "source": [
        "cv_strategy = model_selection.StratifiedShuffleSplit(n_splits=20, test_size = 0.3, random_state = 2)\n",
        "cv_strategy.get_n_splits(blobs[1])"
      ]
    },
    {
      "cell_type": "code",
      "execution_count": null,
      "metadata": {
        "id": "w1zZVgZrf8Nw"
      },
      "outputs": [],
      "source": [
        "ridge_scoring = model_selection.cross_val_score(ridge_classifier, blobs[0], blobs[1], scoring = scorer, cv = cv_strategy)"
      ]
    },
    {
      "cell_type": "code",
      "execution_count": null,
      "metadata": {
        "id": "9CUFFQwAf8Nw"
      },
      "outputs": [],
      "source": [
        "lr_scoring = model_selection.cross_val_score(log_regressor, blobs[0], blobs[1], scoring = scorer, cv = cv_strategy)"
      ]
    },
    {
      "cell_type": "code",
      "execution_count": null,
      "metadata": {
        "id": "RiasV-hGf8N0",
        "outputId": "64e5f31a-2a27-458b-b0b3-89348db2408b"
      },
      "outputs": [
        {
          "name": "stdout",
          "output_type": "stream",
          "text": [
            "Ridge mean: 0.8100000000000002, max: 0.9333333333333333, min: 0.6666666666666666, std: 0.07461009761866465\n"
          ]
        }
      ],
      "source": [
        "ridge_score_mean = ridge_scoring.mean()\n",
        "ridge_score_max = ridge_scoring.max()\n",
        "ridge_score_min = ridge_scoring.min()\n",
        "ridge_score_std = ridge_scoring.std()\n",
        "\n",
        "print(f\"Ridge mean: {ridge_score_mean}, max: {ridge_score_max}, min: {ridge_score_min}, std: {ridge_score_std}\")"
      ]
    },
    {
      "cell_type": "code",
      "execution_count": null,
      "metadata": {
        "id": "67cfcNnjf8N0",
        "outputId": "9e6c1b31-755e-4603-f245-1e6e4e86f0d2"
      },
      "outputs": [
        {
          "name": "stdout",
          "output_type": "stream",
          "text": [
            "Log mean: 0.8083333333333333, max: 0.9333333333333333, min: 0.6666666666666666, std: 0.07369230323144717\n"
          ]
        }
      ],
      "source": [
        "lr_score_mean = lr_scoring.mean()\n",
        "lr_score_max = lr_scoring.max()\n",
        "lr_score_min = lr_scoring.min()\n",
        "lr_score_std = lr_scoring.std()\n",
        "\n",
        "print(f\"Log mean: {lr_score_mean}, max: {lr_score_max}, min: {lr_score_min}, std: {lr_score_std}\")"
      ]
    }
  ],
  "metadata": {
    "kernelspec": {
      "display_name": "Python 3 (ipykernel)",
      "language": "python",
      "name": "python3"
    },
    "language_info": {
      "codemirror_mode": {
        "name": "ipython",
        "version": 3
      },
      "file_extension": ".py",
      "mimetype": "text/x-python",
      "name": "python",
      "nbconvert_exporter": "python",
      "pygments_lexer": "ipython3",
      "version": "3.8.2"
    },
    "colab": {
      "provenance": [],
      "include_colab_link": true
    }
  },
  "nbformat": 4,
  "nbformat_minor": 0
}